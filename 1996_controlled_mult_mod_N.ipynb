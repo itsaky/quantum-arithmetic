{
 "cells": [
  {
   "cell_type": "code",
   "execution_count": 7,
   "id": "initial_id",
   "metadata": {
    "collapsed": true,
    "ExecuteTime": {
     "end_time": "2024-04-13T11:53:03.737604456Z",
     "start_time": "2024-04-13T11:53:03.693864141Z"
    }
   },
   "outputs": [],
   "source": [
    "from qiskit import ClassicalRegister\n",
    "from qiskit import QuantumRegister\n",
    "from qiskit import QuantumCircuit\n",
    "from qiskit_aer import AerSimulator\n",
    "\n",
    "from vbe_arithmetic import ripple_add_modulo_n, ripple_add_modulo_n_dg, create_circuit, set_reg_bits"
   ]
  },
  {
   "cell_type": "code",
   "execution_count": 8,
   "outputs": [
    {
     "data": {
      "text/plain": "<qiskit.circuit.instructionset.InstructionSet at 0x7d09a2f8e4d0>"
     },
     "execution_count": 8,
     "metadata": {},
     "output_type": "execute_result"
    }
   ],
   "source": [
    "x_bits = [1, 1, 0]\n",
    "N = len(x_bits)\n",
    "\n",
    "a = 7\n",
    "a_bits = [1,1,1]\n",
    "a_mult = [(2**i)*a for i in range(0, N)]\n",
    "\n",
    "c = QuantumRegister(1, 'c')\n",
    "x = QuantumRegister(N, 'x')\n",
    "t = QuantumRegister(N, 't')\n",
    "r = QuantumRegister(N, 'r')\n",
    "cx = ClassicalRegister(N, 'cx')\n",
    "cr = ClassicalRegister(N, 'cr')\n",
    "\n",
    "qc = QuantumCircuit(c, x, t, r, cx, cr)\n",
    "\n",
    "# Set the control qubit to |1> state\n",
    "qc.x(c[0])\n",
    "\n"
   ],
   "metadata": {
    "collapsed": false,
    "ExecuteTime": {
     "end_time": "2024-04-13T11:53:03.738081272Z",
     "start_time": "2024-04-13T11:53:03.737440117Z"
    }
   },
   "id": "2d5ce9ed1f0cf4a7"
  },
  {
   "cell_type": "code",
   "execution_count": 9,
   "outputs": [
    {
     "data": {
      "text/plain": "<Figure size 202.683x1036.78 with 1 Axes>",
      "image/png": "[encoded data removed]"
     },
     "execution_count": 9,
     "metadata": {},
     "output_type": "execute_result"
    }
   ],
   "source": [
    "qc.draw(output=\"mpl\", filename=\"circuits/1996_adder.png\", style=\"clifford\")"
   ],
   "metadata": {
    "collapsed": false,
    "ExecuteTime": {
     "end_time": "2024-04-13T11:53:03.934637698Z",
     "start_time": "2024-04-13T11:53:03.737756642Z"
    }
   },
   "id": "e19fdaf991ade71f"
  },
  {
   "cell_type": "code",
   "execution_count": 10,
   "outputs": [
    {
     "name": "stdout",
     "output_type": "stream",
     "text": [
      "{'000 000': 1}\n"
     ]
    }
   ],
   "source": [
    "qc.measure(x, cx)\n",
    "qc.measure(r, cr)\n",
    "\n",
    "backend_sim = AerSimulator()\n",
    "job_sim = backend_sim.run(qc, shots=1)\n",
    "result_sim = job_sim.result()\n",
    "\n",
    "print(result_sim.get_counts(qc))"
   ],
   "metadata": {
    "collapsed": false,
    "ExecuteTime": {
     "end_time": "2024-04-13T11:53:03.940153750Z",
     "start_time": "2024-04-13T11:53:03.937118403Z"
    }
   },
   "id": "465eb2fd6bc68f2e"
  }
 ],
 "metadata": {
  "kernelspec": {
   "display_name": "Python 3",
   "language": "python",
   "name": "python3"
  },
  "language_info": {
   "codemirror_mode": {
    "name": "ipython",
    "version": 2
   },
   "file_extension": ".py",
   "mimetype": "text/x-python",
   "name": "python",
   "nbconvert_exporter": "python",
   "pygments_lexer": "ipython2",
   "version": "2.7.6"
  }
 },
 "nbformat": 4,
 "nbformat_minor": 5
}
