{
 "cells": [
  {
   "cell_type": "code",
   "execution_count": 1,
   "id": "initial_id",
   "metadata": {
    "ExecuteTime": {
     "end_time": "2024-04-13T13:04:27.516486176Z",
     "start_time": "2024-04-13T13:04:27.105230215Z"
    }
   },
   "outputs": [],
   "source": [
    "from qiskit import ClassicalRegister\n",
    "from qiskit import QuantumRegister\n",
    "from qiskit_aer import AerSimulator\n",
    "\n",
    "from vbe_arithemetic import ripple_add_modulo_n, create_circuit, set_reg_bits"
   ]
  },
  {
   "cell_type": "code",
   "execution_count": 2,
   "id": "3aacaa1f7832bccd",
   "metadata": {
    "collapsed": false,
    "ExecuteTime": {
     "end_time": "2024-04-13T13:04:27.528125096Z",
     "start_time": "2024-04-13T13:04:27.526967683Z"
    }
   },
   "outputs": [],
   "source": [
    "# Conditions:\n",
    "# 1. 0 <= a < N\n",
    "# 2. 0 <= b < N\n",
    "a_dec = 14 # [1, 1, 1, 0]\n",
    "b_dec = 14 # [1, 1, 1, 0]\n",
    "n_dec = 15 # [1, 1, 1, 1]\n",
    "\n",
    "if a_dec >= n_dec or b_dec >= n_dec:\n",
    "    raise ValueError(\"a >= N or b >= N\")\n",
    "\n",
    "# Number of bits in the binary numbers\n",
    "# Get the bit length of N as it is expected to be greater than A nd B\n",
    "bit_count = n_dec.bit_length()\n",
    "\n",
    "qc, a, b, c, ca, cb = create_circuit(a_dec, b_dec, bit_count)\n",
    "\n",
    "# Register for the modulo number\n",
    "n = QuantumRegister(bit_count, 'N')\n",
    "cN = ClassicalRegister(bit_count, 'cN')\n",
    "\n",
    "# Temporary register to copy the value of reg1 based on the state of the overflow bit\n",
    "t = QuantumRegister(bit_count, 't')\n",
    "\n",
    "# Temporary qubit to store the overflow bit\n",
    "overflow = QuantumRegister(1, 'of')\n",
    "\n",
    "# Add the registers to the circuit\n",
    "qc.add_register(n, cN, overflow, t)\n",
    "\n",
    "# set the bits to the modulo register\n",
    "set_reg_bits(qc, n_dec, n)\n",
    "\n",
    "# Example\n",
    "# 6 + 6 = 12 % 7 = 5\n",
    "\n",
    "# A detailed example:\n",
    "# bit_count = 3 <-- no. of bits in operands\n",
    "# N = 7\n",
    "# Decimal operation: a(6) + b(6) = 12\n",
    "# a+b mod N = 12 mod 7 = 5\n",
    "# Therefore, the result must be :\n",
    "#   111        0101         110\n",
    "#    ^           ^           ^\n",
    "#    N      (a+b mod N)      a\n",
    "#  (LTR)       (LTR)       (RTL)\n",
    "\n",
    "ripple_add_modulo_n(qc, bit_count, a, b, c, n, overflow, t)"
   ]
  },
  {
   "cell_type": "code",
   "execution_count": 3,
   "id": "a26225bd-e6a1-4d03-bb0f-42da11a8f153",
   "metadata": {
    "ExecuteTime": {
     "end_time": "2024-04-13T13:04:27.532623892Z",
     "start_time": "2024-04-13T13:04:27.530210787Z"
    }
   },
   "outputs": [],
   "source": [
    "# qc.draw(output=\"mpl\", filename=\"circuits/1996_adder_module_N.png\", style=\"clifford\")"
   ]
  },
  {
   "cell_type": "code",
   "execution_count": 4,
   "id": "35ed4b35adadf499",
   "metadata": {
    "collapsed": false,
    "ExecuteTime": {
     "end_time": "2024-04-13T13:04:28.540559178Z",
     "start_time": "2024-04-13T13:04:27.535258508Z"
    }
   },
   "outputs": [
    {
     "name": "stdout",
     "output_type": "stream",
     "text": [
      "{'1111 01101 1110': 1}\n"
     ]
    }
   ],
   "source": [
    "qc.measure(a, ca)\n",
    "qc.measure(b, cb)\n",
    "qc.measure(n, cN)\n",
    "\n",
    "backend_sim = AerSimulator()\n",
    "job_sim = backend_sim.run(qc, shots=1)\n",
    "result_sim = job_sim.result()\n",
    "\n",
    "res = result_sim.get_counts(qc)\n",
    "print(res)"
   ]
  }
 ],
 "metadata": {
  "kernelspec": {
   "display_name": "Python 3 (ipykernel)",
   "language": "python",
   "name": "python3"
  },
  "language_info": {
   "codemirror_mode": {
    "name": "ipython",
    "version": 3
   },
   "file_extension": ".py",
   "mimetype": "text/x-python",
   "name": "python",
   "nbconvert_exporter": "python",
   "pygments_lexer": "ipython3",
   "version": "3.10.12"
  }
 },
 "nbformat": 4,
 "nbformat_minor": 5
}
