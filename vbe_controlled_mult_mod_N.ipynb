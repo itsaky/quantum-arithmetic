{
 "cells": [
  {
   "cell_type": "code",
   "id": "initial_id",
   "metadata": {
    "collapsed": true,
    "ExecuteTime": {
     "end_time": "2024-04-19T06:11:15.587088Z",
     "start_time": "2024-04-19T06:11:14.994594Z"
    }
   },
   "source": [
    "from qiskit import ClassicalRegister\n",
    "from qiskit import QuantumCircuit\n",
    "from qiskit import QuantumRegister\n",
    "from qiskit.circuit.library import MCXGate\n",
    "from qiskit_aer import AerSimulator\n",
    "\n",
    "from vbe_arithmetic import ripple_add_modulo_n, set_reg_bits"
   ],
   "outputs": [],
   "execution_count": 1
  },
  {
   "cell_type": "code",
   "source": [
    "# !!!!! IMPORTANT !!!!!\n",
    "# This implementation has not been tested\n",
    "\n",
    "x_dec = 2\n",
    "x_len = x_dec.bit_length()\n",
    "\n",
    "a_dec = 6\n",
    "\n",
    "n_dec = 7\n",
    "\n",
    "# 2^i * a\n",
    "# Used for modular addition below\n",
    "a_mult = [(2 ** i) * a_dec for i in range(0, x_len)]\n",
    "a_len = a_mult[-1].bit_length()\n",
    "\n",
    "# Get the max bit length between all of the above numbers\n",
    "# Will be used to create registers of this size\n",
    "N = max(x_len, n_dec.bit_length())\n",
    "N = max(N, a_len)\n",
    "\n",
    "ctrl = QuantumRegister(1, 'ctrl')  # Control bit for multiplication\n",
    "n = QuantumRegister(N, 'mod')  # Register to store modulo value\n",
    "a = QuantumRegister(a_len, 'a')\n",
    "x = QuantumRegister(N, 'x')  # Register for exponential\n",
    "t = QuantumRegister(N, 'temp')  # Temp register, first operand to adder-mod\n",
    "r = QuantumRegister(N * 2, 'result')  # Result register, second operand to adder-mod\n",
    "adder_t = QuantumRegister(N, 'adder_t')  # Temp register used in adder-mod\n",
    "c = QuantumRegister(N, 'carry')  # Carry register used in adder-mod\n",
    "of = QuantumRegister(1, 'of')  # Overflow bit, used in adder-mod\n",
    "cx = ClassicalRegister(N, 'cx')\n",
    "cr = ClassicalRegister(N * 2, 'cr')\n",
    "\n",
    "qc = QuantumCircuit(ctrl, n, a, x, r, t, c, of, adder_t, cx, cr)\n",
    "\n",
    "# Set the modulo bits\n",
    "set_reg_bits(qc, n_dec, n)\n",
    "\n",
    "# Set the control qubit to |1> state\n",
    "qc.x(ctrl[0])\n",
    "\n",
    "for i in range(0, x_len):\n",
    "    # Copy (2^i * a) into the temporary register if control qbit and x_i is in state |1>\n",
    "    # We use control-control-control-NOT gate to copy the bits\n",
    "    # The first two controls are used to trigger the copy operation\n",
    "    # Then the last control-NOT copies the bits\n",
    "\n",
    "    for j in range(0, a_len):\n",
    "\n",
    "        # Copy the current (2^i * a) into the 'a' register\n",
    "        if a_mult[i] & (1 << j) != 0:\n",
    "            qc.x(a[j])\n",
    "\n",
    "        # if a[j] is in |1> state, copy it to the temporary register\n",
    "        mcx = MCXGate(3)\n",
    "        qc.append(mcx, [ctrl[0], x[i], a[j], t[j]])\n",
    "\n",
    "    # At this point, the temporary register contains the bits from a_mult[i]\n",
    "    # Apply the adder-mod operation, with :\n",
    "    # - temporary register as first operand\n",
    "    # - result register as the second operand\n",
    "    ripple_add_modulo_n(qc, N, t, r, c, n, of, adder_t)\n",
    "\n",
    "    # Reset the value in the 'a' register\n",
    "    for j in range(0, a_len):\n",
    "        qc.reset(a[j])\n"
   ],
   "metadata": {
    "collapsed": false,
    "ExecuteTime": {
     "end_time": "2024-04-19T06:11:15.599524Z",
     "start_time": "2024-04-19T06:11:15.588756Z"
    }
   },
   "id": "2d5ce9ed1f0cf4a7",
   "outputs": [],
   "execution_count": 2
  },
  {
   "cell_type": "code",
   "source": [
    "#qc.draw(output=\"mpl\", filename=\"circuits/1996_adder.png\", style=\"clifford\")"
   ],
   "metadata": {
    "collapsed": false,
    "ExecuteTime": {
     "end_time": "2024-04-19T06:11:15.604141Z",
     "start_time": "2024-04-19T06:11:15.601242Z"
    }
   },
   "id": "e19fdaf991ade71f",
   "outputs": [],
   "execution_count": 3
  },
  {
   "cell_type": "code",
   "source": [
    "qc.measure(x, cx)\n",
    "qc.measure(r, cr)\n",
    "\n",
    "backend_sim = AerSimulator()\n",
    "job_sim = backend_sim.run(qc, shots=1)\n",
    "result_sim = job_sim.result()\n",
    "\n",
    "print(result_sim.get_counts(qc))"
   ],
   "metadata": {
    "collapsed": false,
    "ExecuteTime": {
     "end_time": "2024-04-19T06:11:15.962741Z",
     "start_time": "2024-04-19T06:11:15.605901Z"
    }
   },
   "id": "465eb2fd6bc68f2e",
   "outputs": [
    {
     "name": "stderr",
     "output_type": "stream",
     "text": [
      "Simulation failed and returned the following error message:\n",
      "ERROR:  [Experiment 0] Insufficient memory to run circuit circuit-158 using the statevector simulator. Required memory: 262144M, max memory: 31415M\n"
     ]
    },
    {
     "ename": "QiskitError",
     "evalue": "'Data for experiment \"circuit-158\" could not be found.'",
     "output_type": "error",
     "traceback": [
      "\u001B[0;31m---------------------------------------------------------------------------\u001B[0m",
      "\u001B[0;31mQiskitError\u001B[0m                               Traceback (most recent call last)",
      "Cell \u001B[0;32mIn[4], line 8\u001B[0m\n\u001B[1;32m      5\u001B[0m job_sim \u001B[38;5;241m=\u001B[39m backend_sim\u001B[38;5;241m.\u001B[39mrun(qc, shots\u001B[38;5;241m=\u001B[39m\u001B[38;5;241m1\u001B[39m)\n\u001B[1;32m      6\u001B[0m result_sim \u001B[38;5;241m=\u001B[39m job_sim\u001B[38;5;241m.\u001B[39mresult()\n\u001B[0;32m----> 8\u001B[0m \u001B[38;5;28mprint\u001B[39m(\u001B[43mresult_sim\u001B[49m\u001B[38;5;241;43m.\u001B[39;49m\u001B[43mget_counts\u001B[49m\u001B[43m(\u001B[49m\u001B[43mqc\u001B[49m\u001B[43m)\u001B[49m)\n",
      "File \u001B[0;32m~/Projects/Python/.venv/lib/python3.10/site-packages/qiskit/result/result.py:269\u001B[0m, in \u001B[0;36mResult.get_counts\u001B[0;34m(self, experiment)\u001B[0m\n\u001B[1;32m    267\u001B[0m dict_list \u001B[38;5;241m=\u001B[39m []\n\u001B[1;32m    268\u001B[0m \u001B[38;5;28;01mfor\u001B[39;00m key \u001B[38;5;129;01min\u001B[39;00m exp_keys:\n\u001B[0;32m--> 269\u001B[0m     exp \u001B[38;5;241m=\u001B[39m \u001B[38;5;28;43mself\u001B[39;49m\u001B[38;5;241;43m.\u001B[39;49m\u001B[43m_get_experiment\u001B[49m\u001B[43m(\u001B[49m\u001B[43mkey\u001B[49m\u001B[43m)\u001B[49m\n\u001B[1;32m    270\u001B[0m     \u001B[38;5;28;01mtry\u001B[39;00m:\n\u001B[1;32m    271\u001B[0m         header \u001B[38;5;241m=\u001B[39m exp\u001B[38;5;241m.\u001B[39mheader\u001B[38;5;241m.\u001B[39mto_dict()\n",
      "File \u001B[0;32m~/Projects/Python/.venv/lib/python3.10/site-packages/qiskit/result/result.py:380\u001B[0m, in \u001B[0;36mResult._get_experiment\u001B[0;34m(self, key)\u001B[0m\n\u001B[1;32m    373\u001B[0m exp \u001B[38;5;241m=\u001B[39m [\n\u001B[1;32m    374\u001B[0m     result\n\u001B[1;32m    375\u001B[0m     \u001B[38;5;28;01mfor\u001B[39;00m result \u001B[38;5;129;01min\u001B[39;00m \u001B[38;5;28mself\u001B[39m\u001B[38;5;241m.\u001B[39mresults\n\u001B[1;32m    376\u001B[0m     \u001B[38;5;28;01mif\u001B[39;00m \u001B[38;5;28mgetattr\u001B[39m(\u001B[38;5;28mgetattr\u001B[39m(result, \u001B[38;5;124m\"\u001B[39m\u001B[38;5;124mheader\u001B[39m\u001B[38;5;124m\"\u001B[39m, \u001B[38;5;28;01mNone\u001B[39;00m), \u001B[38;5;124m\"\u001B[39m\u001B[38;5;124mname\u001B[39m\u001B[38;5;124m\"\u001B[39m, \u001B[38;5;124m\"\u001B[39m\u001B[38;5;124m\"\u001B[39m) \u001B[38;5;241m==\u001B[39m key\n\u001B[1;32m    377\u001B[0m ]\n\u001B[1;32m    379\u001B[0m \u001B[38;5;28;01mif\u001B[39;00m \u001B[38;5;28mlen\u001B[39m(exp) \u001B[38;5;241m==\u001B[39m \u001B[38;5;241m0\u001B[39m:\n\u001B[0;32m--> 380\u001B[0m     \u001B[38;5;28;01mraise\u001B[39;00m QiskitError(\u001B[38;5;124m'\u001B[39m\u001B[38;5;124mData for experiment \u001B[39m\u001B[38;5;124m\"\u001B[39m\u001B[38;5;132;01m%s\u001B[39;00m\u001B[38;5;124m\"\u001B[39m\u001B[38;5;124m could not be found.\u001B[39m\u001B[38;5;124m'\u001B[39m \u001B[38;5;241m%\u001B[39m key)\n\u001B[1;32m    381\u001B[0m \u001B[38;5;28;01mif\u001B[39;00m \u001B[38;5;28mlen\u001B[39m(exp) \u001B[38;5;241m==\u001B[39m \u001B[38;5;241m1\u001B[39m:\n\u001B[1;32m    382\u001B[0m     exp \u001B[38;5;241m=\u001B[39m exp[\u001B[38;5;241m0\u001B[39m]\n",
      "\u001B[0;31mQiskitError\u001B[0m: 'Data for experiment \"circuit-158\" could not be found.'"
     ]
    }
   ],
   "execution_count": 4
  }
 ],
 "metadata": {
  "kernelspec": {
   "display_name": "Python 3",
   "language": "python",
   "name": "python3"
  },
  "language_info": {
   "codemirror_mode": {
    "name": "ipython",
    "version": 2
   },
   "file_extension": ".py",
   "mimetype": "text/x-python",
   "name": "python",
   "nbconvert_exporter": "python",
   "pygments_lexer": "ipython2",
   "version": "2.7.6"
  }
 },
 "nbformat": 4,
 "nbformat_minor": 5
}
