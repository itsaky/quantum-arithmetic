{
 "cells": [
  {
   "cell_type": "code",
   "execution_count": null,
   "id": "initial_id",
   "metadata": {
    "collapsed": true
   },
   "outputs": [],
   "source": [
    "from qiskit import ClassicalRegister\n",
    "from qiskit import QuantumCircuit\n",
    "from qiskit import QuantumRegister\n",
    "from qiskit.circuit.library import MCXGate\n",
    "from qiskit_aer import AerSimulator\n",
    "\n",
    "from vbe_arithmetic import ripple_add_modulo_n, set_reg_bits"
   ]
  },
  {
   "cell_type": "code",
   "execution_count": null,
   "outputs": [],
   "source": [
    "# !!!!! IMPORTANT !!!!!\n",
    "# This implementation has not been tested\n",
    "\n",
    "x_dec = 2\n",
    "x_len = x_dec.bit_length()\n",
    "\n",
    "a_dec = 6\n",
    "\n",
    "n_dec = 7\n",
    "\n",
    "# 2^i * a\n",
    "# Used for modular addition below\n",
    "a_mult = [(2 ** i) * a_dec for i in range(0, x_len)]\n",
    "a_len = a_mult[-1].bit_length()\n",
    "\n",
    "# Get the max bit length between all of the above numbers\n",
    "# Will be used to create registers of this size\n",
    "N = max(x_len, n_dec.bit_length())\n",
    "N = max(N, a_len)\n",
    "\n",
    "ctrl = QuantumRegister(1, 'ctrl')  # Control bit for multiplication\n",
    "n = QuantumRegister(N, 'mod')  # Register to store modulo value\n",
    "a = QuantumRegister(a_len, 'a')\n",
    "x = QuantumRegister(N, 'x')  # Register for exponential\n",
    "t = QuantumRegister(N, 'temp')  # Temp register, first operand to adder-mod\n",
    "r = QuantumRegister(N * 2, 'result')  # Result register, second operand to adder-mod\n",
    "adder_t = QuantumRegister(N, 'adder_t')  # Temp register used in adder-mod\n",
    "c = QuantumRegister(N, 'carry')  # Carry register used in adder-mod\n",
    "of = QuantumRegister(1, 'of')  # Overflow bit, used in adder-mod\n",
    "cx = ClassicalRegister(N, 'cx')\n",
    "cr = ClassicalRegister(N * 2, 'cr')\n",
    "\n",
    "qc = QuantumCircuit(ctrl, n, a, x, r, t, c, of, adder_t, cx, cr)\n",
    "\n",
    "# Set the modulo bits\n",
    "set_reg_bits(qc, n_dec, n)\n",
    "\n",
    "# Set the control qubit to |1> state\n",
    "qc.x(ctrl[0])\n",
    "\n",
    "for i in range(0, x_len):\n",
    "    # Copy (2^i * a) into the temporary register if control qbit and x_i is in state |1>\n",
    "    # We use control-control-control-NOT gate to copy the bits\n",
    "    # The first two controls are used to trigger the copy operation\n",
    "    # Then the last control-NOT copies the bits\n",
    "\n",
    "    for j in range(0, a_len):\n",
    "\n",
    "        # Copy the current (2^i * a) into the 'a' register\n",
    "        if a_mult[i] & (1 << j) != 0:\n",
    "            qc.x(a[j])\n",
    "\n",
    "        # if a[j] is in |1> state, copy it to the temporary register\n",
    "        mcx = MCXGate(3)\n",
    "        qc.append(mcx, [ctrl[0], x[i], a[j], t[j]])\n",
    "\n",
    "    # At this point, the temporary register contains the bits from a_mult[i]\n",
    "    # Apply the adder-mod operation, with :\n",
    "    # - temporary register as first operand\n",
    "    # - result register as the second operand\n",
    "    ripple_add_modulo_n(qc, N, t, r, c, n, of, adder_t)\n",
    "\n",
    "    # Reset the value in the 'a' register\n",
    "    for j in range(0, a_len):\n",
    "        qc.reset(a[j])\n"
   ],
   "metadata": {
    "collapsed": false
   },
   "id": "2d5ce9ed1f0cf4a7"
  },
  {
   "cell_type": "code",
   "execution_count": null,
   "outputs": [],
   "source": [
    "#qc.draw(output=\"mpl\", filename=\"circuits/1996_adder.png\", style=\"clifford\")"
   ],
   "metadata": {
    "collapsed": false
   },
   "id": "e19fdaf991ade71f"
  },
  {
   "cell_type": "code",
   "execution_count": null,
   "outputs": [],
   "source": [
    "qc.measure(x, cx)\n",
    "qc.measure(r, cr)\n",
    "\n",
    "backend_sim = AerSimulator()\n",
    "job_sim = backend_sim.run(qc, shots=1)\n",
    "result_sim = job_sim.result()\n",
    "\n",
    "print(result_sim.get_counts(qc))"
   ],
   "metadata": {
    "collapsed": false
   },
   "id": "465eb2fd6bc68f2e"
  }
 ],
 "metadata": {
  "kernelspec": {
   "display_name": "Python 3",
   "language": "python",
   "name": "python3"
  },
  "language_info": {
   "codemirror_mode": {
    "name": "ipython",
    "version": 2
   },
   "file_extension": ".py",
   "mimetype": "text/x-python",
   "name": "python",
   "nbconvert_exporter": "python",
   "pygments_lexer": "ipython2",
   "version": "2.7.6"
  }
 },
 "nbformat": 4,
 "nbformat_minor": 5
}
